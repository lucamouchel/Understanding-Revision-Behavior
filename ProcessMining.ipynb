{
 "cells": [
  {
   "cell_type": "code",
   "execution_count": 6,
   "metadata": {},
   "outputs": [],
   "source": [
    "import import_ipynb\n",
    "from InsertsDelComparisons import sorted_users, np, df, INDICES, map_, pd, recipes_indices, indices_of_first_attempts_per_user"
   ]
  },
  {
   "cell_type": "code",
   "execution_count": 11,
   "metadata": {},
   "outputs": [],
   "source": [
    "def print_user_recipes(index):\n",
    "    print(sorted_users[index])\n",
    "    a = np.where(df['user_id'] == sorted_users[index])\n",
    "    a = a[0]\n",
    "    for i in a:\n",
    "        print(df['recipe'].iloc[i][:20], df['event_date'].values[i])\n",
    "    print(map_[index])"
   ]
  },
  {
   "cell_type": "code",
   "execution_count": 4,
   "metadata": {},
   "outputs": [],
   "source": [
    "actions = [None] *len(df)\n",
    "for arrays in map_:\n",
    "    actions[arrays[0]] = '1st recipe submitted'\n",
    "for i in range(len(df)):\n",
    "    if actions[i] is None:\n",
    "        if i in recipes_indices:\n",
    "            actions[i] = 'next recipe submitted'\n",
    "        else:  \n",
    "            actions[i] = 'revision'"
   ]
  },
  {
   "cell_type": "code",
   "execution_count": 9,
   "metadata": {},
   "outputs": [
    {
     "name": "stdout",
     "output_type": "stream",
     "text": [
      "[9, 11, 12, 14]\n"
     ]
    },
    {
     "data": {
      "text/plain": [
       "['1;1st recipe submitted;2022-09-04 14:01:31.746981',\n",
       " '1;revision;2022-09-04 14:09:42.474719',\n",
       " '2;next recipe submitted;2022-09-04 14:25:32.108391',\n",
       " '3;next recipe submitted;2022-09-04 14:43:38.306892',\n",
       " '3;revision;2022-09-04 14:48:49.568420']"
      ]
     },
     "execution_count": 9,
     "metadata": {},
     "output_type": "execute_result"
    }
   ],
   "source": [
    "ACTIONS = [';1st recipe submitted;', ';revision;', ';next recipe submitted;']\n",
    "def recipes_to_csv(user_index):\n",
    "    recipe_indices = map_[user_index].copy()\n",
    "    if user_index == 186: last_index_where_written = 1091\n",
    "    else: last_index_where_written = indices_of_first_attempts_per_user[user_index + 1]\n",
    "    recipe_indices.append(last_index_where_written)\n",
    "    print(recipe_indices)\n",
    "\n",
    "    where_in_df = np.where(df['user_id'] == sorted_users[user_index])\n",
    "    first_line = '1' + ACTIONS[0] + df.iloc[where_in_df[0][0]]['event_date']\n",
    "\n",
    "    lines = [first_line]\n",
    "\n",
    "    for i, index in enumerate(range(recipe_indices[0]+1, recipe_indices[-1]+1)):\n",
    "        j = index\n",
    "        is_new_recipe = index in recipe_indices\n",
    "        while not is_new_recipe:\n",
    "            line = ACTIONS[1] + df.iloc[where_in_df[0][i+1]]['event_date']\n",
    "            lines.append(line)\n",
    "            j+=1\n",
    "            if j in recipe_indices: is_new_recipe = True\n",
    "\n",
    "        try:\n",
    "            if index in recipe_indices : lines.append(ACTIONS[2] + df.iloc[where_in_df[0][i+1]]['event_date'])\n",
    "        except: continue\n",
    "        \n",
    "    result = lines\n",
    "    index = 1\n",
    "    for i, line in enumerate(lines):\n",
    "        if line.startswith(ACTIONS[1]):\n",
    "            result[i] = str(index) + line\n",
    "        elif line.startswith(ACTIONS[2]):\n",
    "            index+=1\n",
    "            result[i] = str(index) + line\n",
    "\n",
    "    return result"
   ]
  },
  {
   "cell_type": "code",
   "execution_count": null,
   "metadata": {},
   "outputs": [
    {
     "name": "stderr",
     "output_type": "stream",
     "text": [
      "exporting log, completed traces :: 100%|██████████| 3/3 [00:00<?, ?it/s]\n",
      "parsing log, completed traces :: 100%|██████████| 3/3 [00:00<?, ?it/s]"
     ]
    },
    {
     "name": "stdout",
     "output_type": "stream",
     "text": [
      "<bound method Counter.elements of ['end:1']>\n"
     ]
    },
    {
     "name": "stderr",
     "output_type": "stream",
     "text": [
      "\n"
     ]
    }
   ],
   "source": [
    "import os\n",
    "import pm4py\n",
    "from pm4py.visualization.petri_net import  visualizer as pn_vis_factory\n",
    "\n",
    "name = 'running-example.csv'\n",
    "test = 'test.csv'\n",
    "dataframe = pd.read_csv(test, sep=';')\n",
    "event_log = pm4py.format_dataframe(dataframe, case_id='case_id', activity_key='activity', timestamp_key='timestamp')\n",
    "event_log = pm4py.convert_to_event_log(dataframe)\n",
    "\n",
    "\n",
    "new_file = 'xes_format.xes'\n",
    "pm4py.write_xes(event_log, new_file)\n",
    "\n",
    "log = pm4py.read_xes(new_file)\n",
    "net, initial_marking, final_marking = pm4py.discover_petri_net_alpha(log)\n",
    "print(final_marking.elements)\n",
    "\n",
    "#pn_vis_factory(pn_vis_factory.apply(net, initial_marking, final_marking))"
   ]
  },
  {
   "cell_type": "code",
   "execution_count": null,
   "metadata": {},
   "outputs": [
    {
     "data": {
      "image/png": "[encoded data removed]",
      "text/plain": [
       "<IPython.core.display.Image object>"
      ]
     },
     "metadata": {},
     "output_type": "display_data"
    }
   ],
   "source": [
    "from pm4py.objects.log.importer.xes import importer as xes_importer\n",
    "from pm4py.algo.discovery.alpha import  algorithm as alpha_miner\n",
    "from pm4py.visualization.petri_net import visualizer as pn_vis_factory\n",
    "\n",
    "performance_dfg, start_activities, end_activities = pm4py.discover_performance_dfg(log)\n",
    "pm4py.save_vis_performance_dfg(performance_dfg, start_activities, end_activities, 'perf_dfg.png')\n",
    "\n",
    "\n",
    "\n",
    "net, im, fm = alpha_miner.apply(log)\n",
    "gv = pn_vis_factory.apply(net, im, fm)\n",
    "pn_vis_factory.view(gv)"
   ]
  }
 ],
 "metadata": {
  "kernelspec": {
   "display_name": "Python 3.9.13 64-bit (microsoft store)",
   "language": "python",
   "name": "python3"
  },
  "language_info": {
   "codemirror_mode": {
    "name": "ipython",
    "version": 3
   },
   "file_extension": ".py",
   "mimetype": "text/x-python",
   "name": "python",
   "nbconvert_exporter": "python",
   "pygments_lexer": "ipython3",
   "version": "3.9.13"
  },
  "orig_nbformat": 4,
  "vscode": {
   "interpreter": {
    "hash": "034e82c898f96a531aea7f463adf54ed75110b5c8a706bc29f14438863882a0d"
   }
  }
 },
 "nbformat": 4,
 "nbformat_minor": 2
}
