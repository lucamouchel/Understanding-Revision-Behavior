{
 "cells": [
  {
   "cell_type": "code",
   "execution_count": 9,
   "metadata": {},
   "outputs": [],
   "source": [
    "import import_ipynb\n",
    "from InsertsDelComparisons import sorted_users, np, df, INDICES, map_, pd, recipes_indices, indices_of_first_attempts_per_user"
   ]
  },
  {
   "cell_type": "code",
   "execution_count": 2,
   "metadata": {},
   "outputs": [
    {
     "name": "stdout",
     "output_type": "stream",
     "text": [
      "5b2509947f7816000145fa13\n",
      "Pasta bolognese\n",
      "Ingr 2022-09-04 08:32:09.543609\n",
      "Pasta bolognese\n",
      "Ingr 2022-09-04 08:51:14.524511\n",
      "Sausage, mash and ve 2022-09-04 08:56:44.910849\n",
      "Sausage, mash and ve 2022-09-04 08:57:02.876889\n",
      "Odds and ends pasta\n",
      " 2022-09-04 09:01:40.320894\n",
      "Odds and ends pasta\n",
      " 2022-09-04 09:04:16.484970\n",
      "[56, 58, 60]\n"
     ]
    }
   ],
   "source": [
    "def print_user_recipes(index):\n",
    "    print(sorted_users[index])\n",
    "    a = np.where(df['user_id'] == sorted_users[index])\n",
    "    a = a[0]\n",
    "    for i in a:\n",
    "        print(df['recipe'].iloc[i][:20], df['event_date'].values[i])\n",
    "    print(map_[index])\n",
    "\n",
    "print_user_recipes(INDICES[1][2])\n"
   ]
  },
  {
   "cell_type": "code",
   "execution_count": 3,
   "metadata": {},
   "outputs": [],
   "source": [
    "actions = [None] * len(df)\n",
    "for arrays in map_:\n",
    "    actions[arrays[0]] = '1st recipe submitted'\n",
    "for i in range(len(df)):\n",
    "    if actions[i] is None:\n",
    "        if i in recipes_indices:\n",
    "            actions[i] = 'next recipe submitted'\n",
    "        else:  \n",
    "            actions[i] = 'revision'"
   ]
  },
  {
   "cell_type": "code",
   "execution_count": 4,
   "metadata": {},
   "outputs": [],
   "source": [
    "import os\n",
    "import pm4py\n",
    "from pm4py.visualization.petri_net import  visualizer as pn_vis_factory\n",
    "from pm4py.objects.log.importer.xes import importer as xes_importer\n",
    "from pm4py.algo.discovery.alpha import  algorithm as alpha_miner\n",
    "\n",
    "def save_user_session_info_graph(csv_filepath, group_num):\n",
    "    graph_data = csv_filepath\n",
    "    dataframe = pd.read_csv(graph_data, sep=';')\n",
    "    event_log = pm4py.format_dataframe(dataframe, case_id='case_id', activity_key='activity', timestamp_key='timestamp')\n",
    "    event_log = pm4py.convert_to_event_log(dataframe)\n",
    "\n",
    "    new_file = 'xes_format.xes'\n",
    "    pm4py.write_xes(event_log, new_file)\n",
    "    log = pm4py.read_xes(new_file)\n",
    "    net, initial_marking, final_marking = pm4py.discover_petri_net_alpha(log)\n",
    "    performance_dfg, start_activities, end_activities = pm4py.discover_performance_dfg(event_log)\n",
    "    \n",
    "    try:\n",
    "        pm4py.save_vis_performance_dfg(performance_dfg, start_activities, end_activities, 'results/process mining/groupnum{n}.png'.format(n=group_num))\n",
    "    except: print('user only has 1 recipe')\n",
    "\n",
    "#pn_vis_factory(pn_vis_factory.apply(net, initial_marking, final_marking))"
   ]
  },
  {
   "cell_type": "code",
   "execution_count": 21,
   "metadata": {},
   "outputs": [],
   "source": [
    "ACTIONS = [';1st recipe submitted;', ';revision;', ';second recipe submitted;']\n",
    "def format_user_data(user_index, with_enumeration=False, case_id=1):\n",
    "    recipe_indices = map_[user_index].copy()\n",
    "    if user_index == 186: last_index_where_written = 1091\n",
    "    else: last_index_where_written = indices_of_first_attempts_per_user[user_index + 1]\n",
    "    recipe_indices.append(last_index_where_written)\n",
    "\n",
    "    where_in_df = np.where(df['user_id'] == sorted_users[user_index])\n",
    "    first_line = str(case_id) + ACTIONS[0] + df.iloc[where_in_df[0][0]]['event_date']\n",
    "\n",
    "    lines = [first_line]\n",
    "\n",
    "    for i, index in enumerate(range(recipe_indices[0]+1, recipe_indices[-1]+1)):\n",
    "        j = index\n",
    "        is_new_recipe = index in recipe_indices\n",
    "        while not is_new_recipe:\n",
    "            line = ACTIONS[1] + df.iloc[where_in_df[0][i+1]]['event_date']\n",
    "            lines.append(line)\n",
    "            j+=1\n",
    "            if j in recipe_indices: is_new_recipe = True\n",
    "\n",
    "        try:\n",
    "            if index in recipe_indices : lines.append(ACTIONS[2] + df.iloc[where_in_df[0][i+1]]['event_date'])\n",
    "        except: continue\n",
    "        \n",
    "    result = lines\n",
    "    index = 1\n",
    "    for i, line in enumerate(lines):\n",
    "        j = index if with_enumeration else 1\n",
    "       \n",
    "        if line.startswith(ACTIONS[1]):\n",
    "            result[i] = str(case_id) + line\n",
    "        elif line.startswith(ACTIONS[2]):\n",
    "            index+=1\n",
    "            j = index if with_enumeration else 1\n",
    "            second_recipe_already_submitted = False\n",
    "            for l in lines[:i]:\n",
    "                if ACTIONS[2] in l : second_recipe_already_submitted = True\n",
    "            if second_recipe_already_submitted:\n",
    "                result[i] = str(case_id) + line.replace('second', 'third')\n",
    "            else : result[i] = str(case_id) + line\n",
    "\n",
    "    return  pd.DataFrame(sorted(set(result), key=result.index), columns=['case_id;activity;timestamp'])"
   ]
  },
  {
   "cell_type": "code",
   "execution_count": 22,
   "metadata": {},
   "outputs": [
    {
     "name": "stderr",
     "output_type": "stream",
     "text": [
      "exporting log, completed traces :: 100%|██████████| 40/40 [00:00<00:00, 3997.62it/s]\n",
      "parsing log, completed traces :: 100%|██████████| 40/40 [00:00<00:00, 3394.07it/s]\n",
      "exporting log, completed traces :: 100%|██████████| 34/34 [00:00<00:00, 4661.56it/s]\n",
      "parsing log, completed traces :: 100%|██████████| 34/34 [00:00<00:00, 2916.76it/s]\n",
      "exporting log, completed traces :: 100%|██████████| 33/33 [00:00<00:00, 6451.57it/s]\n",
      "parsing log, completed traces :: 100%|██████████| 33/33 [00:00<00:00, 3328.25it/s]\n",
      "exporting log, completed traces :: 100%|██████████| 39/39 [00:00<00:00, 5488.82it/s]\n",
      "parsing log, completed traces :: 100%|██████████| 39/39 [00:00<00:00, 2715.57it/s]\n",
      "exporting log, completed traces :: 100%|██████████| 40/40 [00:00<00:00, 5538.13it/s]\n",
      "parsing log, completed traces :: 100%|██████████| 40/40 [00:00<00:00, 2928.78it/s]\n"
     ]
    }
   ],
   "source": [
    "for i in range(0,5):\n",
    "    dframes = []\n",
    "    for j, user in enumerate(INDICES[i]):\n",
    "        A = format_user_data(user_index=user, case_id=j+1)\n",
    "        dframes.append(A)\n",
    "\n",
    "    res = pd.concat(dframes)\n",
    "    path = 'results/process mining/group{i}.csv'.format(i=i+1)\n",
    "    res.to_csv(path, index=False)\n",
    "    save_user_session_info_graph(csv_filepath=path, group_num=i+1)\n"
   ]
  },
  {
   "cell_type": "code",
   "execution_count": 8,
   "metadata": {},
   "outputs": [
    {
     "name": "stdout",
     "output_type": "stream",
     "text": [
      "5b2509947f7816000145fa13\n"
     ]
    }
   ],
   "source": [
    "from pm4py.objects.log.importer.xes import importer as xes_importer\n",
    "from pm4py.algo.discovery.alpha import  algorithm as alpha_miner\n",
    "from pm4py.visualization.petri_net import visualizer as pn_vis_factory\n",
    "\n",
    "\"\"\" performance_dfg, start_activities, end_activities = pm4py.discover_performance_dfg(log)\n",
    "pm4py.save_vis_performance_dfg(performance_dfg, start_activities, end_activities, 'perf_dfg2.png')\n",
    "\n",
    "\n",
    "\n",
    "net, im, fm = alpha_miner.apply(log)\n",
    "gv = pn_vis_factory.apply(net, im, fm)\n",
    "pn_vis_factory.view(gv) \"\"\"\n",
    "print(sorted_users[INDICES[1][2]])\n"
   ]
  }
 ],
 "metadata": {
  "kernelspec": {
   "display_name": "Python 3.9.13 64-bit (microsoft store)",
   "language": "python",
   "name": "python3"
  },
  "language_info": {
   "codemirror_mode": {
    "name": "ipython",
    "version": 3
   },
   "file_extension": ".py",
   "mimetype": "text/x-python",
   "name": "python",
   "nbconvert_exporter": "python",
   "pygments_lexer": "ipython3",
   "version": "3.9.13"
  },
  "orig_nbformat": 4,
  "vscode": {
   "interpreter": {
    "hash": "034e82c898f96a531aea7f463adf54ed75110b5c8a706bc29f14438863882a0d"
   }
  }
 },
 "nbformat": 4,
 "nbformat_minor": 2
}
