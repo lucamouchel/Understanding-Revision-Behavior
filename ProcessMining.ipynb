{
 "cells": [
  {
   "cell_type": "code",
   "execution_count": 6,
   "metadata": {},
   "outputs": [],
   "source": [
    "%store -r df\n",
    "%store -r KEYWORDS\n",
    "%store -r noisy_punct\n",
    "%store -r ks\n",
    "%store -r map_\n",
    "%store -r indices_of_first_attempts_per_user\n",
    "%store -r sorted_users\n",
    "%store -r INDICES\n",
    "%store -r recipes_indices"
   ]
  },
  {
   "cell_type": "code",
   "execution_count": 7,
   "metadata": {},
   "outputs": [],
   "source": [
    "import import_ipynb\n",
    "\n",
    "from RevisionsStudy import *\n",
    "\n",
    "import numpy as np\n",
    "import pandas as pd\n",
    "import os\n",
    "import pm4py\n",
    "from pm4py.visualization.petri_net import  visualizer as pn_vis_factory\n",
    "from pm4py.objects.log.importer.xes import importer as xes_importer\n",
    "from pm4py.algo.discovery.alpha import  algorithm as alpha_miner\n",
    "\n",
    "%store -r sorted_users\n",
    "%store -r df"
   ]
  },
  {
   "cell_type": "code",
   "execution_count": 8,
   "metadata": {},
   "outputs": [],
   "source": [
    "def save_directly_follow_graph(csv_filepath, group_num):\n",
    "    dataframe = pd.read_csv(csv_filepath, sep=';')\n",
    "    event_log = pm4py.format_dataframe(dataframe, case_id='case_id', activity_key='activity', timestamp_key='timestamp')\n",
    "    event_log = pm4py.convert_to_event_log(dataframe)\n",
    "    performance_dfg, start_activities, end_activities = pm4py.discover_performance_dfg(event_log)\n",
    "    try:\n",
    "        pm4py.save_vis_performance_dfg(performance_dfg, start_activities, end_activities, 'results/process mining/groupnum{n}.png'.format(n=group_num))\n",
    "    except: \n",
    "        print('user only has 1 recipe')"
   ]
  },
  {
   "cell_type": "code",
   "execution_count": 9,
   "metadata": {},
   "outputs": [],
   "source": [
    "ACTIONS = [';1st recipe submitted;', ';revision;', ';second recipe submitted;']\n",
    "def format_user_data(user_index, case_id=1):\n",
    "    recipe_indices = map_[user_index].copy()\n",
    "    if user_index == len(sorted_users) - 1: last_index_where_written = len(df)\n",
    "    else: last_index_where_written = indices_of_first_attempts_per_user[user_index + 1]\n",
    "    recipe_indices.append(last_index_where_written)\n",
    "\n",
    "    where_in_df = np.where(df['user_id'] == sorted_users[user_index])\n",
    "    first_index = where_in_df[0][0]\n",
    "\n",
    "    first_line = str(case_id) + ACTIONS[0] + df.iloc[where_in_df[0][0]]['event_date']             \n",
    "    lines = [first_line]\n",
    "    for i, index in enumerate(range(recipe_indices[0]+1, recipe_indices[-1]+1)):\n",
    "        j = index\n",
    "        is_new_recipe = index in recipe_indices\n",
    "        while not is_new_recipe:\n",
    "            line = ACTIONS[1] + df.iloc[where_in_df[0][i+1]]['event_date']\n",
    "            lines.append(line)\n",
    "            j+=1\n",
    "            if j in recipe_indices: is_new_recipe = True\n",
    "        try:\n",
    "            if index in recipe_indices : lines.append(ACTIONS[2] + df.iloc[where_in_df[0][i+1]]['event_date'])\n",
    "        except: continue\n",
    "        \n",
    "    result = lines\n",
    "    for i, line in enumerate(lines):\n",
    "        if line.startswith(ACTIONS[1]):\n",
    "            result[i] = str(case_id) + line\n",
    "           \n",
    "        elif line.startswith(ACTIONS[2]):\n",
    "            second_recipe_already_submitted = any([ACTIONS[2] in l for l in result[:i]])\n",
    "            if second_recipe_already_submitted:\n",
    "                result[i] = str(case_id) + line.replace('second', 'third') \n",
    "            else : result[i] = str(case_id) + line\n",
    "        \n",
    "    for i, line in enumerate(result):\n",
    "        replaced = ACTIONS[2].replace('second', 'third')\n",
    "        if line.startswith(str(case_id) + replaced):\n",
    "            has_submitted_third_recipe = any([replaced in l for l in result[:i]])\n",
    "            if has_submitted_third_recipe:\n",
    "                result[i] =\";;\"\n",
    "            else : result[i] = line \n",
    "            \n",
    "    return  pd.DataFrame(sorted(set(result), key=result.index), columns=['case_id;activity;timestamp'])"
   ]
  },
  {
   "cell_type": "code",
   "execution_count": 10,
   "metadata": {},
   "outputs": [
    {
     "name": "stderr",
     "output_type": "stream",
     "text": [
      "C:\\Users\\lucam\\AppData\\Local\\Packages\\PythonSoftwareFoundation.Python.3.9_qbz5n2kfra8p0\\LocalCache\\local-packages\\Python39\\site-packages\\pm4py\\utils.py:87: SettingWithCopyWarning: \n",
      "A value is trying to be set on a copy of a slice from a DataFrame.\n",
      "Try using .loc[row_indexer,col_indexer] = value instead\n",
      "\n",
      "See the caveats in the documentation: https://pandas.pydata.org/pandas-docs/stable/user_guide/indexing.html#returning-a-view-versus-a-copy\n",
      "  df[constants.CASE_CONCEPT_NAME] = df[constants.CASE_CONCEPT_NAME].astype(\"string\")\n",
      "C:\\Users\\lucam\\AppData\\Local\\Packages\\PythonSoftwareFoundation.Python.3.9_qbz5n2kfra8p0\\LocalCache\\local-packages\\Python39\\site-packages\\pm4py\\utils.py:89: SettingWithCopyWarning: \n",
      "A value is trying to be set on a copy of a slice from a DataFrame.\n",
      "Try using .loc[row_indexer,col_indexer] = value instead\n",
      "\n",
      "See the caveats in the documentation: https://pandas.pydata.org/pandas-docs/stable/user_guide/indexing.html#returning-a-view-versus-a-copy\n",
      "  df[xes_constants.DEFAULT_NAME_KEY] = df[xes_constants.DEFAULT_NAME_KEY].astype(\"string\")\n"
     ]
    }
   ],
   "source": [
    "for i in range(0,2):\n",
    "    dframes = []\n",
    "    for j, user in enumerate(INDICES[i]):\n",
    "        A = format_user_data(user_index=user, case_id=j+1)\n",
    "        dframes.append(A)\n",
    "\n",
    "    res = pd.concat(dframes)\n",
    "    path = 'data/processMiningData/group{i}.csv'.format(i=i+1)\n",
    "    res.to_csv(path, index=False)\n",
    "    save_directly_follow_graph(csv_filepath=path, group_num=i+1)"
   ]
  }
 ],
 "metadata": {
  "kernelspec": {
   "display_name": "Python 3.9.13 64-bit (microsoft store)",
   "language": "python",
   "name": "python3"
  },
  "language_info": {
   "codemirror_mode": {
    "name": "ipython",
    "version": 3
   },
   "file_extension": ".py",
   "mimetype": "text/x-python",
   "name": "python",
   "nbconvert_exporter": "python",
   "pygments_lexer": "ipython3",
   "version": "3.9.13 (tags/v3.9.13:6de2ca5, May 17 2022, 16:36:42) [MSC v.1929 64 bit (AMD64)]"
  },
  "orig_nbformat": 4,
  "vscode": {
   "interpreter": {
    "hash": "034e82c898f96a531aea7f463adf54ed75110b5c8a706bc29f14438863882a0d"
   }
  }
 },
 "nbformat": 4,
 "nbformat_minor": 2
}
