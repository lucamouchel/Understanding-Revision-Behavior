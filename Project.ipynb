{
 "cells": [
  {
   "cell_type": "markdown",
   "metadata": {},
   "source": [
    "# Project"
   ]
  },
  {
   "cell_type": "code",
   "execution_count": 1,
   "metadata": {},
   "outputs": [
    {
     "name": "stdout",
     "output_type": "stream",
     "text": [
      "Welcome to\n",
      "      ____              __\n",
      "     / __/__  ___ _____/ /__\n",
      "    _\\ \\/ _ \\/ _ `/ __/  '_/\n",
      "   /__ / .__/\\_,_/_/ /_/\\_\\   version 3.3.0\n",
      "      /_/\n",
      "\n",
      "Using Python version 3.9.13 (tags/v3.9.13:6de2ca5, May 17 2022 16:36:42)\n",
      "Spark context Web UI available at http://10.0.13.166:4040\n",
      "Spark context available as 'sc' (master = local[*], app id = local-1665946205717).\n",
      "SparkSession available as 'spark'.\n"
     ]
    }
   ],
   "source": [
    "import pandas as pd\n",
    "import json as JSON\n",
    "import numpy as np\n",
    "\n",
    "from collections import Counter\n",
    "from nltk.tokenize import word_tokenize, sent_tokenize\n",
    "from nltk.corpus import stopwords\n",
    "\n",
    "from pyspark.ml.fpm import PrefixSpan\n",
    "from pyspark.shell import sc\n",
    "from pyspark.sql.functions import desc\n",
    "from pyspark.sql.types import Row\n"
   ]
  },
  {
   "cell_type": "code",
   "execution_count": 2,
   "metadata": {},
   "outputs": [],
   "source": [
    "df = pd.read_csv('keystrokes-recipes.csv')\n",
    "KEYWORDS = ['Shift', 'Backspace', 'Enter', 'ArrowDown',\n",
    "            'ArrowLeft', 'ArrowRight', 'ArrowUp', 'End', 'Control', 'CapsLock']\n",
    "\n",
    "#create a copy of the dataset to another csv file\n",
    "\n",
    "df.to_csv('keystrokes-recipes-modified.csv', index=False)"
   ]
  },
  {
   "cell_type": "markdown",
   "metadata": {},
   "source": [
    "- ```keystrokes-recipes.csv``` is the original data and we keep it in case we want to look back at one moment\n",
    "- ```keystrokes-recipes-modified.csv``` is the modified data\n"
   ]
  },
  {
   "cell_type": "markdown",
   "metadata": {},
   "source": [
    "## Data cleaning and sorting\n"
   ]
  },
  {
   "cell_type": "markdown",
   "metadata": {},
   "source": [
    "Our data consists of a csv file with event dates, user ids, keystrokes and the recipes they wrote.\n",
    "We clean all the data by working throught the keystrokes first.\n",
    "\n",
    "* We group the characters into the word written and separate between important keywords typed such as backspace, shift, enter etc. The sequence ['shift', 'p', 'e', 'r'] becomes ['shift', 'per'] \n",
    "* We sort by user id to get a better idea of every recipe every student has written."
   ]
  },
  {
   "cell_type": "markdown",
   "metadata": {},
   "source": [
    "## Processing the data\n"
   ]
  },
  {
   "cell_type": "markdown",
   "metadata": {},
   "source": [
    "The first thing we did was isolate the keystrokes to a new ```json``` file saved in ```data/all_keystrokes.json```"
   ]
  },
  {
   "cell_type": "markdown",
   "metadata": {},
   "source": [
    "The next step is to group words together and separate them from keywords and we work between each whitespace.\n",
    " \n",
    "So for example this entry: \n",
    "\n",
    "```{'time': 1662252404346, 'character': 'Shift'}, {'time': 1662252404376, 'character': 'f'}, {'time': 1662252404505, 'character': 'i'}``` \n",
    "\n",
    "gives the following output: \n",
    "\n",
    "```{'time': 1662252404346, 'word': 'Shift'}, {'time': 1662252404505, 'word': 'fi'}```\n"
   ]
  },
  {
   "cell_type": "code",
   "execution_count": 3,
   "metadata": {},
   "outputs": [],
   "source": [
    "def find_seq(chars):\n",
    "    return \"\".join(list(filter(lambda _ : _ not in KEYWORDS, chars)))\n",
    "\n",
    "def separate_entry(json_values):\n",
    "    new_data = []\n",
    "    last_whitespace = 0\n",
    "    characters = [arr[1] for arr in json_values]\n",
    "\n",
    "    for i, (time, character) in enumerate(json_values):\n",
    "        if character.isspace():\n",
    "            word = characters[last_whitespace: i]\n",
    "            if not any(i in word for i in KEYWORDS):\n",
    "                new_data.append({'time': time, 'word': \"\".join(word)})\n",
    "            else:\n",
    "                new_data.append({'time': time, 'word': find_seq(word)})\n",
    "            last_whitespace = i+1\n",
    "\n",
    "        elif character in KEYWORDS:\n",
    "            new_data.append({'time': time, 'word': character})\n",
    "        \n",
    "        elif not character:\n",
    "            continue\n",
    "\n",
    "    return new_data\n",
    "\n",
    "def compute():\n",
    "    new_df = pd.DataFrame(pd.read_json(\"data/all_keystrokes.json\"))\n",
    "    arr = []\n",
    "    for jsonf in new_df.values:\n",
    "        sub_arr = []\n",
    "        for d in jsonf:\n",
    "            if d is not None:\n",
    "                sub_arr.append([d[\"time\"], d[\"character\"]])\n",
    "        arr.append(sub_arr)\n",
    "\n",
    "    result = []\n",
    "    for jsonf in arr:\n",
    "        result.append(separate_entry(jsonf))\n",
    "\n",
    "    with open(\"data/new_data.json\", \"w\") as f:\n",
    "        JSON.dump(result, f)\n",
    "    return\n",
    "\n",
    "compute()\n",
    "\n"
   ]
  },
  {
   "cell_type": "markdown",
   "metadata": {},
   "source": [
    "Basically, ``` compute()``` will format the data for the ```separate_entry``` function and when everything is computed, it dumps all the data in a new json file.\n",
    "\n",
    "```separate_entry``` computes the words between each space character, all the while separating words from keywords. It uses the function ```find_seq``` to separate the characters from keywords so it allows to isolate words between each whitespaces.\n"
   ]
  },
  {
   "cell_type": "markdown",
   "metadata": {},
   "source": [
    "## Modifying the CSV file"
   ]
  },
  {
   "cell_type": "markdown",
   "metadata": {},
   "source": [
    "We just modify the keystroke data for each row of the original data in ```keystrokes-recipes.csv``` but apply it to ```keystrokes-recipes-modified.csv```"
   ]
  },
  {
   "cell_type": "code",
   "execution_count": 4,
   "metadata": {},
   "outputs": [],
   "source": [
    "jsons = pd.read_json('data/new_data.json').values.tolist()\n",
    "\n",
    "for i, json in enumerate(jsons):\n",
    "    jsons[i]= list(filter(lambda _ : _ is not None, json))\n",
    "\n",
    "def write_to_csv_file(filename, recipes_len):\n",
    "    df = pd.read_csv(filename)\n",
    "    for i in range(recipes_len):\n",
    "        df.loc[i,'ks'] = jsons[i]\n",
    "    df.to_csv(filename, index=False)\n",
    "\n",
    "write_to_csv_file('keystrokes-recipes-modified.csv', len(jsons))\n"
   ]
  },
  {
   "cell_type": "markdown",
   "metadata": {},
   "source": [
    "## Sorting by user id"
   ]
  },
  {
   "cell_type": "markdown",
   "metadata": {},
   "source": [
    "We want to sort by user id in order to differentiate behaviour between different people more easily"
   ]
  },
  {
   "cell_type": "code",
   "execution_count": 5,
   "metadata": {},
   "outputs": [],
   "source": [
    "csv_filename = 'keystrokes-recipes-modified.csv'\n",
    "pd.read_csv(csv_filename).sort_values(by='user_id', ascending=True).to_csv(csv_filename, index=False)"
   ]
  },
  {
   "cell_type": "markdown",
   "metadata": {},
   "source": [
    "## Identifying patterns between different student recipes"
   ]
  },
  {
   "cell_type": "markdown",
   "metadata": {},
   "source": [
    "Count the most common words used in the recipes and removing stopwords (they're noisy)"
   ]
  },
  {
   "cell_type": "code",
   "execution_count": 35,
   "metadata": {},
   "outputs": [
    {
     "data": {
      "text/plain": [
       "<AxesSubplot:xlabel='words'>"
      ]
     },
     "execution_count": 35,
     "metadata": {},
     "output_type": "execute_result"
    },
    {
     "data": {
      "image/png": "[encoded data removed]",
      "text/plain": [
       "<Figure size 640x480 with 1 Axes>"
      ]
     },
     "metadata": {},
     "output_type": "display_data"
    }
   ],
   "source": [
    "data = pd.read_csv(csv_filename)['recipe'].values\n",
    "stop_words = set(stopwords.words('english'))\n",
    "recipes_copy = list(map(lambda _ : word_tokenize(_), data.copy()))\n",
    "recipes_without_stopwords = []\n",
    "for recipe in recipes_copy:\n",
    "    recipes_without_stopwords.append([w for w in recipe if not w.lower() in stop_words])    \n",
    "\n",
    "flat_list = [item for sublist in recipes_without_stopwords for item in sublist]\n",
    "flat_list = list(filter(lambda char : char not in [',', '.', '-', ':', '(', ')'], flat_list))\n",
    "c = Counter(flat_list)\n",
    "\n",
    "dframe = pd.DataFrame(c.most_common(40))\n",
    "dframe.columns = ['words', 'occurences']\n",
    "\n",
    "dframe.plot(kind='bar', x='words', y='occurences', linewidth=1)"
   ]
  },
  {
   "cell_type": "markdown",
   "metadata": {},
   "source": [
    "Most of the recipes contain an order in which to proceed - ie 1) --- 2) --- \n",
    "Also interesting to see most of the common words are not ingredients"
   ]
  },
  {
   "cell_type": "markdown",
   "metadata": {},
   "source": [
    "### Pattern mining"
   ]
  },
  {
   "cell_type": "markdown",
   "metadata": {},
   "source": [
    "There are a total of 1091 recipes from 187 students. What we would like to do is either apply pattern mining for each student and their recipes to better understand each users writing. Or, we pick one recipe from each student and extract the underlying patterns each student share."
   ]
  },
  {
   "cell_type": "markdown",
   "metadata": {},
   "source": [
    "Given our data, we want to extract the longest common patterns as the shorter ones will only consist of heavily used words such as 'the', 'and'. Hence, given the running time of running the ```PrefixSpan``` algorithm using ```pyspark``` to find the patterns with ```maxPatternLength=10``` is over 10 minutes for only 5 recipes with a little ```minimum_support```, it would take approximately 1870 minutes (1091 recipes and 187 students gives roughly 5 recipes per student) to compute patterns for each student recipes. So, we ought to only pick one from each student and apply the ```PrefixSpan``` algorithm. Regardless - applying prefix span on the written recipes results in unsatisfying output."
   ]
  },
  {
   "cell_type": "markdown",
   "metadata": {},
   "source": [
    "To reduce the amount of computation of the algorithm, we simply pick the first recipe each student writes"
   ]
  },
  {
   "cell_type": "code",
   "execution_count": 47,
   "metadata": {},
   "outputs": [
    {
     "name": "stdout",
     "output_type": "stream",
     "text": [
      "   sequence  freq\n",
      "0     [[.]]  1025\n",
      "1  [[., .]]   997\n",
      "2     [[,]]   987\n"
     ]
    },
    {
     "data": {
      "text/plain": [
       "<AxesSubplot:ylabel='sequence'>"
      ]
     },
     "execution_count": 47,
     "metadata": {},
     "output_type": "execute_result"
    },
    {
     "data": {
      "image/png": "[encoded data removed]",
      "text/plain": [
       "<Figure size 640x480 with 1 Axes>"
      ]
     },
     "metadata": {},
     "output_type": "display_data"
    }
   ],
   "source": [
    "sorted_df = pd.read_csv(csv_filename)\n",
    "first_recipe_each_student = sorted_df.groupby('user_id').head(1)\n",
    "one_recipe_per_student = []\n",
    "for index in first_recipe_each_student.index:\n",
    "    one_recipe_per_student.append(word_tokenize((sorted_df.loc[index]['recipe'])))"
   ]
  },
  {
   "cell_type": "markdown",
   "metadata": {},
   "source": [
    "From, there we can try to apply the PS algorithm\n",
    "\n",
    "Parameters of ```PrefixSpan``` : \n",
    "* Minimum Support (```minSupport```) : support is calculated as the % of sequences containing the subsequence\n",
    "* Maximum Subsequence Length (```maxPatternLength```) : speaks for itself\n",
    "\n",
    "If ```minSupport``` is little and ```maxPatternLength``` is large, the running time of ```PrefixSpan``` gets exceedingly long. The contrary gives reasonable running time but some subsequences can be left undiscovered.\n"
   ]
  },
  {
   "cell_type": "code",
   "execution_count": 127,
   "metadata": {},
   "outputs": [
    {
     "data": {
      "text/plain": [
       "<AxesSubplot:ylabel='sequence'>"
      ]
     },
     "execution_count": 127,
     "metadata": {},
     "output_type": "execute_result"
    },
    {
     "data": {
      "image/png": "[encoded data removed]",
      "text/plain": [
       "<Figure size 640x480 with 1 Axes>"
      ]
     },
     "metadata": {},
     "output_type": "display_data"
    }
   ],
   "source": [
    "copy = recipes_without_stopwords.copy()\n",
    "\n",
    "for i, tokenized in enumerate(copy):\n",
    "    copy[i] = list(filter(lambda char: char != ',' and char != \".\" ,tokenized))\n",
    "\n",
    "range_ = range(len(copy))\n",
    "for i in range_:\n",
    "    copy[i] = Row(sequence=[copy[i]])\n",
    "\n",
    "l = [copy[i] for i in range_]\n",
    "DF = sc.parallelize(l).toDF()\n",
    "\n",
    "prefixSpan = PrefixSpan(minSupport=0.5, maxPatternLength=8, maxLocalProjDBSize=32000000)\n",
    "\n",
    "# Find frequent sequential patterns.\n",
    "a = prefixSpan.findFrequentSequentialPatterns(DF).sort(desc('freq')).collect()\n",
    "\n",
    "\n",
    "NUM_PATTERNS_TO_PLOT = 30\n",
    "\n",
    "df2 = pd.DataFrame(list(map(lambda _: _.asDict(),a[:NUM_PATTERNS_TO_PLOT])))\n",
    "df2.plot(kind='barh',x='sequence', y='freq')"
   ]
  },
  {
   "cell_type": "markdown",
   "metadata": {},
   "source": [
    "Can't really make anything of this which makes sense bc it looks for sequential patterns - not the general idea. For now this just confirms what the frequency word counter showed - that people make a list in their recipes but it's not that interesting."
   ]
  },
  {
   "cell_type": "markdown",
   "metadata": {},
   "source": [
    "* What we can do now is try to map each typed character as an insert action, count each backspace as a delete action and from those sequences, generate some patterns under the form (insert - insert - delete - insert ...)\n",
    "\n",
    "* We can also try to check if any of the commands typed are of the form ```CTRL + C``` - ```CTRL + V``` to see if any of the students might have cheated\n",
    "\n",
    "* divide the whole writing session in three parts (beginning, middle, end) for each recipe and study different parameters --- such as the number of keystrokes typed at each subsession, the number of inserts or deletions at each subsession and try to see what is the general trend --- without any results i'd personally say more inserts in the beginning and more deletions in the end with slower typing speeds in the middle\n",
    "\n",
    "### pending approval from thiemo "
   ]
  },
  {
   "cell_type": "markdown",
   "metadata": {},
   "source": [
    "I Think of the 3 ideas the one with the insertions and deletions is the most interesting and easy to implement. The idea comes from a paper : Analysis of Keystroke Sequences in Writing Logs\n"
   ]
  },
  {
   "cell_type": "markdown",
   "metadata": {},
   "source": [
    "## Comparing text insertions with deletions"
   ]
  },
  {
   "cell_type": "markdown",
   "metadata": {},
   "source": [
    "First what we want to do is count the number of deletions (ie Backspaces) for each student"
   ]
  },
  {
   "cell_type": "markdown",
   "metadata": {},
   "source": [
    "we will create a tuple for each student of the form ```(total insertions, total deletions)```"
   ]
  },
  {
   "cell_type": "markdown",
   "metadata": {},
   "source": [
    "plot a scatter plot for each student and see if there are correlations"
   ]
  },
  {
   "cell_type": "code",
   "execution_count": 131,
   "metadata": {},
   "outputs": [
    {
     "name": "stdout",
     "output_type": "stream",
     "text": [
      "[(6502, 546), (5167, 589), (4549, 672), (1581, 106), (4566, 297), (1896, 358), (3556, 318), (3163, 343), (5287, 547), (3052, 370), (2124, 275), (2385, 181), (1761, 245), (4037, 324), (3946, 333), (3920, 334), (2841, 305), (4486, 515), (4792, 647), (5276, 417), (2771, 266), (2630, 195), (3034, 434), (4677, 564), (3887, 570), (5233, 444), (1995, 148), (6139, 723), (2850, 465), (8926, 773), (4828, 564), (2595, 321), (14412, 1880), (38, 7), (7156, 871), (4783, 620), (1843, 127), (5627, 473), (5671, 445), (2011, 242), (2399, 405), (3783, 469), (2081, 189), (5582, 404), (4899, 511), (4175, 343), (3293, 464), (3334, 213), (3604, 371), (3702, 344), (4911, 427), (4842, 410), (2146, 155), (3050, 420), (5799, 986), (3062, 436), (3955, 284), (2409, 191), (85, 58), (2848, 204), (3260, 349), (3196, 311), (3598, 370), (4258, 413), (4067, 299), (2773, 236), (1124, 181), (5613, 534), (1762, 80), (3059, 470), (1299, 104), (15866, 1996), (3700, 316), (4057, 481), (3129, 191), (2550, 188), (3354, 564), (3827, 466), (1352, 157), (3576, 484), (2479, 163), (4748, 468), (3616, 336), (1298, 127), (3109, 222), (3120, 354), (3658, 473), (2287, 450), (2804, 318), (1861, 179), (7309, 556), (3646, 217), (3073, 220), (3529, 198), (2096, 188), (6076, 1091), (3781, 469), (10727, 869), (3943, 1122), (4000, 341), (3757, 621), (2664, 388), (3424, 713), (3473, 630), (3519, 400), (3572, 619), (3594, 536), (2464, 394), (7098, 590), (728, 38), (4588, 408), (5905, 1134), (2254, 153), (6559, 690), (3957, 456), (2921, 390), (3809, 531), (4006, 585), (2166, 251), (5413, 422), (1488, 277), (5966, 526), (5730, 436), (2977, 265), (8740, 957), (5772, 1005), (6725, 627), (3127, 332), (3257, 412), (604, 593), (4891, 859), (3180, 404), (4256, 484), (1954, 275), (9168, 1348), (2619, 268), (9089, 819), (607, 224), (2961, 340), (3605, 333), (253, 44), (1428, 259), (2558, 240), (4214, 738), (5320, 617), (2898, 422), (7124, 516), (996, 42), (2407, 175), (1168, 76), (3229, 335), (327, 54), (4329, 428), (3491, 499), (1404, 541), (1786, 300), (3785, 436), (4181, 734), (12536, 805), (2434, 327), (3620, 380), (2837, 277), (4868, 428), (1658, 157), (4914, 312), (2253, 211), (3908, 284), (2344, 344), (5174, 587), (3896, 458), (4902, 592), (2290, 241), (86, 18), (2329, 222), (5275, 411), (5412, 701), (3656, 504), (1778, 442), (5803, 573), (2281, 391), (2871, 365), (1599, 267), (4634, 289), (4479, 675), (2319, 249), (6780, 796), (2322, 334)]\n"
     ]
    }
   ],
   "source": [
    "all_keystrokes = pd.read_json('data/all_keystrokes.json').values\n",
    "sorted_indices = pd.read_csv(csv_filename)\n",
    "sorted_users = sorted(set(df['user_id'].values))\n",
    "\n",
    "user_insertions_deletions = []\n",
    "for user in sorted_users:\n",
    "    indices_where_written = np.where(df['user_id'] == user)\n",
    "    insertions = 0\n",
    "    deletions = 0\n",
    "    for index in indices_where_written:\n",
    "        users_keystrokes = all_keystrokes[index]\n",
    "        for json in users_keystrokes:\n",
    "            for dic in json:\n",
    "                if dic is not None:\n",
    "                    if dic['character'] not in KEYWORDS:\n",
    "                        insertions += 1\n",
    "                    elif dic['character'] == 'Backspace':\n",
    "                        deletions += 1\n",
    "    user_insertions_deletions.append((insertions, deletions))\n"
   ]
  },
  {
   "cell_type": "code",
   "execution_count": null,
   "metadata": {},
   "outputs": [],
   "source": []
  }
 ],
 "metadata": {
  "kernelspec": {
   "display_name": "Python 3.9.13 64-bit (microsoft store)",
   "language": "python",
   "name": "python3"
  },
  "language_info": {
   "codemirror_mode": {
    "name": "ipython",
    "version": 3
   },
   "file_extension": ".py",
   "mimetype": "text/x-python",
   "name": "python",
   "nbconvert_exporter": "python",
   "pygments_lexer": "ipython3",
   "version": "3.9.13"
  },
  "orig_nbformat": 4,
  "vscode": {
   "interpreter": {
    "hash": "034e82c898f96a531aea7f463adf54ed75110b5c8a706bc29f14438863882a0d"
   }
  }
 },
 "nbformat": 4,
 "nbformat_minor": 2
}
