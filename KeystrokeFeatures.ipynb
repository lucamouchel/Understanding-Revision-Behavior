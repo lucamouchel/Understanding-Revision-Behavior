{
 "cells": [
  {
   "cell_type": "markdown",
   "metadata": {},
   "source": [
    "We're going to extract some relevant keystroke features here for each user.\n",
    "\n",
    "Relevant features:\n",
    "* Time spent per user\n",
    "* number of insertions and deletions - insertions are considered as any typed character, including whitespaces, excluding button presses such as `Ctrl` or `Shift`. Deletions are counted by the number of backspaces and the number of times the `Delete` button is pressed\n",
    "* DI ratio : ratio of the number of deletions over the number of insertions - captures extent of editing and revisions.\n",
    "* Efficiency: the ratio between number of characters typed and time spent - indicates general writing speed\n",
    "* Any others?\n",
    "\n",
    "Most of the features are inspired by ['Analysis of Keystroke Sequences in Writing Logs\n",
    "'](https://doi.org/10.1002/ets2.12247)\n",
    "\n",
    "This notebook aims at writing some generic code that can be used for any type of keystroke dataset, all the while respecting some conditions (ie having same names and same structure).\n",
    "\n",
    "We will work with the raw dataset and generate some data for each user. For the dataset in our study, it is sometimes more interesting to have some more specific data for each user (like for each recipe they write, but for the purposes mentionned above, we generalise for each user)"
   ]
  },
  {
   "cell_type": "code",
   "execution_count": 1,
   "metadata": {},
   "outputs": [],
   "source": [
    "import pandas as pd\n",
    "import numpy as np\n",
    "from utils import *\n",
    "import utils"
   ]
  },
  {
   "cell_type": "code",
   "execution_count": 2,
   "metadata": {},
   "outputs": [],
   "source": [
    "dataset_path = 'data/keystrokes-recipes.csv'"
   ]
  },
  {
   "cell_type": "markdown",
   "metadata": {},
   "source": [
    "In the logs, we have `event_date, user_id, ks, recipes`. The column `recipes` can be generalised to any text format."
   ]
  },
  {
   "cell_type": "code",
   "execution_count": 3,
   "metadata": {},
   "outputs": [],
   "source": [
    "df = pd.read_csv(dataset_path).sort_values(by=['user_id', 'event_date'])\n",
    "df.to_csv(dataset_path, index=False)"
   ]
  },
  {
   "cell_type": "code",
   "execution_count": 4,
   "metadata": {},
   "outputs": [],
   "source": [
    "def indices_where_written(user_id):\n",
    "    return df[df['user_id'] == user_id].index "
   ]
  },
  {
   "cell_type": "markdown",
   "metadata": {},
   "source": [
    "### Total time spent\n",
    "Captures total time spent per user. Calculates the time difference between the first log for that user and the last one."
   ]
  },
  {
   "cell_type": "code",
   "execution_count": 5,
   "metadata": {},
   "outputs": [],
   "source": [
    "def get_time_spent(user_id):\n",
    "    indices = indices_where_written(user_id)\n",
    "    first_time = df.loc[indices[0], 'event_date']\n",
    "    last_time = df.loc[indices[-1], 'event_date']\n",
    "    diff = utils.time_difference(first_time, last_time)\n",
    "    if diff == 0: return 1\n",
    "    return diff\n"
   ]
  },
  {
   "cell_type": "markdown",
   "metadata": {},
   "source": [
    "### Number of insertions and deletions"
   ]
  },
  {
   "cell_type": "markdown",
   "metadata": {},
   "source": [
    "Like before, in our study, we are interested in the number of insertions and deletions for each recipes, but we generalise and only count the total number for each user"
   ]
  },
  {
   "cell_type": "code",
   "execution_count": 6,
   "metadata": {},
   "outputs": [],
   "source": [
    "import ast\n",
    "\n",
    "def compute_num_insertions_deletions(user_id):\n",
    "    indices = indices_where_written(user_id)\n",
    "    num_insertions = 0\n",
    "    num_deletions = 0\n",
    "    for i in indices:\n",
    "        assert df.iloc[i]['user_id'] == user_id\n",
    "        ks = ast.literal_eval(df.loc[i, 'ks'])\n",
    "        chars = [entry['character'] for entry in ks]\n",
    "        num_insertions += len(list(filter(lambda _ : _  not in KEYWORDS, chars)))\n",
    "        num_deletions += len(list(filter(lambda _ : _ == 'Backspace' or _ == 'Delete', chars)))\n",
    "    return (num_insertions, num_deletions)"
   ]
  },
  {
   "cell_type": "markdown",
   "metadata": {},
   "source": [
    "### DIRatio"
   ]
  },
  {
   "cell_type": "code",
   "execution_count": 7,
   "metadata": {},
   "outputs": [],
   "source": [
    "def get_DIRatio(num_insertions, num_deletions):\n",
    "    return num_deletions / num_insertions"
   ]
  },
  {
   "cell_type": "markdown",
   "metadata": {},
   "source": [
    "### Efficiency"
   ]
  },
  {
   "cell_type": "code",
   "execution_count": 8,
   "metadata": {},
   "outputs": [],
   "source": [
    "def get_efficiency(time_spent, num_insertions):\n",
    "    return num_insertions / time_spent"
   ]
  },
  {
   "cell_type": "markdown",
   "metadata": {},
   "source": [
    "## Combining everything together"
   ]
  },
  {
   "cell_type": "code",
   "execution_count": 10,
   "metadata": {},
   "outputs": [],
   "source": [
    "ks_features = {}\n",
    "for user in df['user_id'].unique():\n",
    "    inserts, deletions = compute_num_insertions_deletions(user)\n",
    "    time_spent = get_time_spent(user)\n",
    "    ks_features[user] = {'time_spent': time_spent, 'num insert delete': (inserts, deletions) , 'DIRatio': get_DIRatio(inserts, deletions), 'efficiency': get_efficiency(time_spent, inserts)}"
   ]
  },
  {
   "cell_type": "code",
   "execution_count": 11,
   "metadata": {},
   "outputs": [
    {
     "name": "stdout",
     "output_type": "stream",
     "text": [
      "Stored 'ks_features' (dict)\n"
     ]
    }
   ],
   "source": [
    "%store ks_features"
   ]
  }
 ],
 "metadata": {
  "kernelspec": {
   "display_name": "Python 3.9.13 64-bit (microsoft store)",
   "language": "python",
   "name": "python3"
  },
  "language_info": {
   "codemirror_mode": {
    "name": "ipython",
    "version": 3
   },
   "file_extension": ".py",
   "mimetype": "text/x-python",
   "name": "python",
   "nbconvert_exporter": "python",
   "pygments_lexer": "ipython3",
   "version": "3.9.13"
  },
  "orig_nbformat": 4,
  "vscode": {
   "interpreter": {
    "hash": "034e82c898f96a531aea7f463adf54ed75110b5c8a706bc29f14438863882a0d"
   }
  }
 },
 "nbformat": 4,
 "nbformat_minor": 2
}
