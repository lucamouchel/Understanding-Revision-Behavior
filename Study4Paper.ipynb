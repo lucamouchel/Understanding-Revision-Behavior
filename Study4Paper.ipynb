{
 "cells": [
  {
   "attachments": {},
   "cell_type": "markdown",
   "metadata": {},
   "source": [
    "For our paper, we decide to go forward with groups 2 and 4. We thus ignore users who had reflective prompts, as it is hard to include it in the paper, (to explain, discuss its importance in the study) so we only focus on adaptive feedback. \n",
    "\n",
    "| Group 2 | Group 4|\n",
    "| :----: | :---:|\n",
    "|Adaptive Feedback | Non-Adaptive feedback  |\n",
    "\n",
    "They thus become the primary groups and we will call them group 1 and group 2 respectively."
   ]
  },
  {
   "attachments": {},
   "cell_type": "markdown",
   "metadata": {},
   "source": [
    "First, we will extract users from each group and create a new csv file with only users from these groups and create a new dataset from these."
   ]
  },
  {
   "cell_type": "code",
   "execution_count": 70,
   "metadata": {},
   "outputs": [],
   "source": [
    "import pandas as pd\n",
    "import numpy as np\n",
    "\n",
    "%store -r df\n",
    "%store -r INDICES"
   ]
  },
  {
   "attachments": {},
   "cell_type": "markdown",
   "metadata": {},
   "source": [
    "Basically, in the matching data, we have more users than in our dataset, so we keep only the ones which are in the dataset"
   ]
  },
  {
   "cell_type": "code",
   "execution_count": 69,
   "metadata": {},
   "outputs": [],
   "source": [
    "group_data = pd.read_csv('data/groupmatching.csv')\n",
    "original_df = pd.read_csv('data/keystrokes-recipes-modified.csv')\n",
    "\n",
    "users_in_df = original_df['user_id'].values\n",
    "\n",
    "def compute_users_in_group(group_number):\n",
    "    return [value for value in group_data[group_data['group'] == group_number]['user_id'] if value in users_in_df]\n",
    "\n",
    "group2_users = compute_users_in_group(2)\n",
    "group4_users = compute_users_in_group(4)\n",
    "\n",
    "dataset = []\n",
    "def retrieve_data(users_list, groupnum):\n",
    "    for user in users_list:\n",
    "        indices_where_written = original_df[original_df['user_id'] == user].index\n",
    "        assert np.all(sorted(indices_where_written) == indices_where_written)\n",
    "        for index in indices_where_written:\n",
    "            row = original_df.iloc[index]\n",
    "            dataset.append({'event_date': row['event_date'], 'group': groupnum, 'user_id': row['user_id'], 'ks': row['ks'], 'recipe': row['recipe']})\n",
    "\n",
    "retrieve_data(group2_users, 1)\n",
    "retrieve_data(group4_users, 2)\n",
    "dataset_df = pd.DataFrame(dataset)\n",
    "\n",
    "dataset_df.sort_values(by=['user_id','event_date'], inplace=True)\n",
    "dataset_df.to_csv('data4paper/dataset.csv', index=False)"
   ]
  },
  {
   "attachments": {},
   "cell_type": "markdown",
   "metadata": {},
   "source": [
    "now we replicated our dataset and created one where we have only users from group 2 and 4."
   ]
  },
  {
   "cell_type": "code",
   "execution_count": null,
   "metadata": {},
   "outputs": [],
   "source": [
    "group2_indices, group4_indices = INDICES[1], INDICES[3]\n",
    "\n",
    "fig, ax = plt.subplots(5,1, figsize=(50,60), sharey=True)\n",
    "plt.rcParams[\"font.size\"]  = 10\n",
    "\n",
    "recipe_num = 0\n",
    "max_revisions, means, variances, avr_rev_lengths, _ = data_computation_on_groups(recipe_num, INDICES)\n",
    "group_characteristics = [\"With Adaptive Feedback\\nWith Reflective Prompts\", \"With Adaptive Feedback\\nWithout Reflective Prompts\", \n",
    "\"Without Adaptive Feedback\\nWith Reflective Prompts\", \"Without Adaptive Feedback\\nWithout Reflective Prompts\", \"Control Group\\nNo Adaptive Feedback\\nNo Reflective Prompts\"]\n",
    "for group in [2,4]:\n",
    "    text = \\\n",
    "    \"\"\"\n",
    "    Maximum number of revisions: {max}\n",
    "    {mean}\n",
    "    {var}\n",
    "    {revision_length_mean}\n",
    "    {average_time_spent}\n",
    "    \"\"\".format(max=max_revisions[group-1], \n",
    "    mean=r'$\\mu_{revisions}=%.3f$' % (means[group-1]), \n",
    "    var=r'$\\sigma^2_{revisions}=%.3f$' % (variances[group-1]),\n",
    "    revision_length_mean=r'$\\mu_{revision lengths}=%.3f$' % (avr_rev_lengths[group-1]),\n",
    "    average_time_spent=r'$\\mu_{time spent revising}=%.3f$' % (get_average_time_spent_per_group(INDICES[group-1], recipe_num=recipe_num))\n",
    "    )\n",
    "\n",
    "    data = []\n",
    "    for i, _ in enumerate(sorted_users):\n",
    "        if i in INDICES[group-1]:\n",
    "            try: \n",
    "                dframe = get_data_per_session(i)[recipe_num]\n",
    "                dframe.reset_index(inplace=True)\n",
    "                data.append(dframe)\n",
    "            except: \n",
    "                    data.append(pd.DataFrame())\n",
    "\n",
    "    data = sorted(data, key = lambda dframe: len(dframe), reverse=True)    \n",
    "    list_of_df = [df for df in data]\n",
    "    dframes = pd.concat(list_of_df)\n",
    "\n",
    "    y = [[i]*len(list_of_df[i]) for i in range(len(list_of_df))]\n",
    "    x = [np.arange(len(y_i)) for y_i in y ]\n",
    "    x = [index for sub in x for index in sub]\n",
    "    y = [i for sub in y for i in sub]\n",
    "    z = np.array([dframes['insertions']])\n",
    "\n",
    "    ax[group-1].scatter(x=y, y=x, s=z*5, alpha=0.5, linewidths=2) \n",
    "    ax[group-1].scatter(x=y, y=x, s=dframes['deletions'] * 5, alpha=0.5, linewidths=2, c='blue')\n",
    "\n",
    "# place a text box in upper left in axes coords\n",
    "    props = dict(boxstyle='round', facecolor='wheat', alpha=0.5)\n",
    "    ax[group-1].text(0.7, 0.95, text, transform=ax[group-1].transAxes, fontsize=50,\n",
    "        verticalalignment='top', bbox=props)\n",
    "\n",
    "    new_props = dict(boxstyle='round', facecolor='lightcoral', alpha=0.5)\n",
    "    ax[group-1].text(0.1, 0.95, group_characteristics[group-1], transform=ax[group-1].transAxes, fontsize=40,\n",
    "        verticalalignment='top', bbox=new_props)\n",
    "\n",
    "plt.xlabel(xlabel='Insertions and deletions for users in each group, recipe number {num}'.format(num=recipe_num+1), fontsize=20)\n",
    "plt.ylabel(ylabel='Revision steps', fontsize=20)\n",
    "fig.tight_layout()\n",
    "plt.savefig('results/bubble plots/recipe {num}.png'.format(num=recipe_num+1))\n"
   ]
  }
 ],
 "metadata": {
  "kernelspec": {
   "display_name": "Python 3",
   "language": "python",
   "name": "python3"
  },
  "language_info": {
   "codemirror_mode": {
    "name": "ipython",
    "version": 3
   },
   "file_extension": ".py",
   "mimetype": "text/x-python",
   "name": "python",
   "nbconvert_exporter": "python",
   "pygments_lexer": "ipython3",
   "version": "3.9.13 (tags/v3.9.13:6de2ca5, May 17 2022, 16:36:42) [MSC v.1929 64 bit (AMD64)]"
  },
  "orig_nbformat": 4,
  "vscode": {
   "interpreter": {
    "hash": "034e82c898f96a531aea7f463adf54ed75110b5c8a706bc29f14438863882a0d"
   }
  }
 },
 "nbformat": 4,
 "nbformat_minor": 2
}
